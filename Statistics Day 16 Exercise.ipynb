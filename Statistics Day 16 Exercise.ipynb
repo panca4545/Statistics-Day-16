{
 "cells": [
  {
   "cell_type": "code",
   "execution_count": 3,
   "metadata": {},
   "outputs": [],
   "source": [
    "import pandas as pd\n",
    "pd.set_option('display.max_columns', None) #gatau meaningnya apa ini"
   ]
  },
  {
   "cell_type": "markdown",
   "metadata": {},
   "source": [
    "## No 1\n",
    "Tampilkan statistik deskriptif \n",
    "pada variabel Rooms, \n",
    "Distance, Landsize, dan Price!"
   ]
  },
  {
   "cell_type": "code",
   "execution_count": 4,
   "metadata": {},
   "outputs": [
    {
     "data": {
      "text/html": [
       "<div>\n",
       "<style scoped>\n",
       "    .dataframe tbody tr th:only-of-type {\n",
       "        vertical-align: middle;\n",
       "    }\n",
       "\n",
       "    .dataframe tbody tr th {\n",
       "        vertical-align: top;\n",
       "    }\n",
       "\n",
       "    .dataframe thead th {\n",
       "        text-align: right;\n",
       "    }\n",
       "</style>\n",
       "<table border=\"1\" class=\"dataframe\">\n",
       "  <thead>\n",
       "    <tr style=\"text-align: right;\">\n",
       "      <th></th>\n",
       "      <th>Suburb</th>\n",
       "      <th>Address</th>\n",
       "      <th>Rooms</th>\n",
       "      <th>Type</th>\n",
       "      <th>Price</th>\n",
       "      <th>Method</th>\n",
       "      <th>SellerG</th>\n",
       "      <th>Date</th>\n",
       "      <th>Distance</th>\n",
       "      <th>Postcode</th>\n",
       "      <th>Bedroom2</th>\n",
       "      <th>Bathroom</th>\n",
       "      <th>Car</th>\n",
       "      <th>Landsize</th>\n",
       "      <th>BuildingArea</th>\n",
       "      <th>YearBuilt</th>\n",
       "      <th>CouncilArea</th>\n",
       "      <th>Lattitude</th>\n",
       "      <th>Longtitude</th>\n",
       "      <th>Regionname</th>\n",
       "      <th>Propertycount</th>\n",
       "    </tr>\n",
       "  </thead>\n",
       "  <tbody>\n",
       "    <tr>\n",
       "      <th>0</th>\n",
       "      <td>Abbotsford</td>\n",
       "      <td>85 Turner St</td>\n",
       "      <td>2</td>\n",
       "      <td>h</td>\n",
       "      <td>1480000.0</td>\n",
       "      <td>S</td>\n",
       "      <td>Biggin</td>\n",
       "      <td>3/12/2016</td>\n",
       "      <td>2.5</td>\n",
       "      <td>3067.0</td>\n",
       "      <td>2.0</td>\n",
       "      <td>1.0</td>\n",
       "      <td>1.0</td>\n",
       "      <td>202.0</td>\n",
       "      <td>NaN</td>\n",
       "      <td>NaN</td>\n",
       "      <td>Yarra</td>\n",
       "      <td>-37.7996</td>\n",
       "      <td>144.9984</td>\n",
       "      <td>Northern Metropolitan</td>\n",
       "      <td>4019.0</td>\n",
       "    </tr>\n",
       "    <tr>\n",
       "      <th>1</th>\n",
       "      <td>Abbotsford</td>\n",
       "      <td>25 Bloomburg St</td>\n",
       "      <td>2</td>\n",
       "      <td>h</td>\n",
       "      <td>1035000.0</td>\n",
       "      <td>S</td>\n",
       "      <td>Biggin</td>\n",
       "      <td>4/02/2016</td>\n",
       "      <td>2.5</td>\n",
       "      <td>3067.0</td>\n",
       "      <td>2.0</td>\n",
       "      <td>1.0</td>\n",
       "      <td>0.0</td>\n",
       "      <td>156.0</td>\n",
       "      <td>79.0</td>\n",
       "      <td>1900.0</td>\n",
       "      <td>Yarra</td>\n",
       "      <td>-37.8079</td>\n",
       "      <td>144.9934</td>\n",
       "      <td>Northern Metropolitan</td>\n",
       "      <td>4019.0</td>\n",
       "    </tr>\n",
       "    <tr>\n",
       "      <th>2</th>\n",
       "      <td>Abbotsford</td>\n",
       "      <td>5 Charles St</td>\n",
       "      <td>3</td>\n",
       "      <td>h</td>\n",
       "      <td>1465000.0</td>\n",
       "      <td>SP</td>\n",
       "      <td>Biggin</td>\n",
       "      <td>4/03/2017</td>\n",
       "      <td>2.5</td>\n",
       "      <td>3067.0</td>\n",
       "      <td>3.0</td>\n",
       "      <td>2.0</td>\n",
       "      <td>0.0</td>\n",
       "      <td>134.0</td>\n",
       "      <td>150.0</td>\n",
       "      <td>1900.0</td>\n",
       "      <td>Yarra</td>\n",
       "      <td>-37.8093</td>\n",
       "      <td>144.9944</td>\n",
       "      <td>Northern Metropolitan</td>\n",
       "      <td>4019.0</td>\n",
       "    </tr>\n",
       "    <tr>\n",
       "      <th>3</th>\n",
       "      <td>Abbotsford</td>\n",
       "      <td>40 Federation La</td>\n",
       "      <td>3</td>\n",
       "      <td>h</td>\n",
       "      <td>850000.0</td>\n",
       "      <td>PI</td>\n",
       "      <td>Biggin</td>\n",
       "      <td>4/03/2017</td>\n",
       "      <td>2.5</td>\n",
       "      <td>3067.0</td>\n",
       "      <td>3.0</td>\n",
       "      <td>2.0</td>\n",
       "      <td>1.0</td>\n",
       "      <td>94.0</td>\n",
       "      <td>NaN</td>\n",
       "      <td>NaN</td>\n",
       "      <td>Yarra</td>\n",
       "      <td>-37.7969</td>\n",
       "      <td>144.9969</td>\n",
       "      <td>Northern Metropolitan</td>\n",
       "      <td>4019.0</td>\n",
       "    </tr>\n",
       "    <tr>\n",
       "      <th>4</th>\n",
       "      <td>Abbotsford</td>\n",
       "      <td>55a Park St</td>\n",
       "      <td>4</td>\n",
       "      <td>h</td>\n",
       "      <td>1600000.0</td>\n",
       "      <td>VB</td>\n",
       "      <td>Nelson</td>\n",
       "      <td>4/06/2016</td>\n",
       "      <td>2.5</td>\n",
       "      <td>3067.0</td>\n",
       "      <td>3.0</td>\n",
       "      <td>1.0</td>\n",
       "      <td>2.0</td>\n",
       "      <td>120.0</td>\n",
       "      <td>142.0</td>\n",
       "      <td>2014.0</td>\n",
       "      <td>Yarra</td>\n",
       "      <td>-37.8072</td>\n",
       "      <td>144.9941</td>\n",
       "      <td>Northern Metropolitan</td>\n",
       "      <td>4019.0</td>\n",
       "    </tr>\n",
       "  </tbody>\n",
       "</table>\n",
       "</div>"
      ],
      "text/plain": [
       "       Suburb           Address  Rooms Type      Price Method SellerG  \\\n",
       "0  Abbotsford      85 Turner St      2    h  1480000.0      S  Biggin   \n",
       "1  Abbotsford   25 Bloomburg St      2    h  1035000.0      S  Biggin   \n",
       "2  Abbotsford      5 Charles St      3    h  1465000.0     SP  Biggin   \n",
       "3  Abbotsford  40 Federation La      3    h   850000.0     PI  Biggin   \n",
       "4  Abbotsford       55a Park St      4    h  1600000.0     VB  Nelson   \n",
       "\n",
       "        Date  Distance  Postcode  Bedroom2  Bathroom  Car  Landsize  \\\n",
       "0  3/12/2016       2.5    3067.0       2.0       1.0  1.0     202.0   \n",
       "1  4/02/2016       2.5    3067.0       2.0       1.0  0.0     156.0   \n",
       "2  4/03/2017       2.5    3067.0       3.0       2.0  0.0     134.0   \n",
       "3  4/03/2017       2.5    3067.0       3.0       2.0  1.0      94.0   \n",
       "4  4/06/2016       2.5    3067.0       3.0       1.0  2.0     120.0   \n",
       "\n",
       "   BuildingArea  YearBuilt CouncilArea  Lattitude  Longtitude  \\\n",
       "0           NaN        NaN       Yarra   -37.7996    144.9984   \n",
       "1          79.0     1900.0       Yarra   -37.8079    144.9934   \n",
       "2         150.0     1900.0       Yarra   -37.8093    144.9944   \n",
       "3           NaN        NaN       Yarra   -37.7969    144.9969   \n",
       "4         142.0     2014.0       Yarra   -37.8072    144.9941   \n",
       "\n",
       "              Regionname  Propertycount  \n",
       "0  Northern Metropolitan         4019.0  \n",
       "1  Northern Metropolitan         4019.0  \n",
       "2  Northern Metropolitan         4019.0  \n",
       "3  Northern Metropolitan         4019.0  \n",
       "4  Northern Metropolitan         4019.0  "
      ]
     },
     "execution_count": 4,
     "metadata": {},
     "output_type": "execute_result"
    }
   ],
   "source": [
    "df=pd.read_csv('melb_data.csv')\n",
    "df.head()"
   ]
  },
  {
   "cell_type": "code",
   "execution_count": 5,
   "metadata": {},
   "outputs": [
    {
     "data": {
      "text/html": [
       "<div>\n",
       "<style scoped>\n",
       "    .dataframe tbody tr th:only-of-type {\n",
       "        vertical-align: middle;\n",
       "    }\n",
       "\n",
       "    .dataframe tbody tr th {\n",
       "        vertical-align: top;\n",
       "    }\n",
       "\n",
       "    .dataframe thead th {\n",
       "        text-align: right;\n",
       "    }\n",
       "</style>\n",
       "<table border=\"1\" class=\"dataframe\">\n",
       "  <thead>\n",
       "    <tr style=\"text-align: right;\">\n",
       "      <th></th>\n",
       "      <th>Rooms</th>\n",
       "      <th>Distance</th>\n",
       "      <th>Landsize</th>\n",
       "      <th>Price</th>\n",
       "    </tr>\n",
       "  </thead>\n",
       "  <tbody>\n",
       "    <tr>\n",
       "      <th>count</th>\n",
       "      <td>13580.000000</td>\n",
       "      <td>13580.000000</td>\n",
       "      <td>13580.000000</td>\n",
       "      <td>1.358000e+04</td>\n",
       "    </tr>\n",
       "    <tr>\n",
       "      <th>mean</th>\n",
       "      <td>2.937997</td>\n",
       "      <td>10.137776</td>\n",
       "      <td>558.416127</td>\n",
       "      <td>1.075684e+06</td>\n",
       "    </tr>\n",
       "    <tr>\n",
       "      <th>std</th>\n",
       "      <td>0.955748</td>\n",
       "      <td>5.868725</td>\n",
       "      <td>3990.669241</td>\n",
       "      <td>6.393107e+05</td>\n",
       "    </tr>\n",
       "    <tr>\n",
       "      <th>min</th>\n",
       "      <td>1.000000</td>\n",
       "      <td>0.000000</td>\n",
       "      <td>0.000000</td>\n",
       "      <td>8.500000e+04</td>\n",
       "    </tr>\n",
       "    <tr>\n",
       "      <th>25%</th>\n",
       "      <td>2.000000</td>\n",
       "      <td>6.100000</td>\n",
       "      <td>177.000000</td>\n",
       "      <td>6.500000e+05</td>\n",
       "    </tr>\n",
       "    <tr>\n",
       "      <th>50%</th>\n",
       "      <td>3.000000</td>\n",
       "      <td>9.200000</td>\n",
       "      <td>440.000000</td>\n",
       "      <td>9.030000e+05</td>\n",
       "    </tr>\n",
       "    <tr>\n",
       "      <th>75%</th>\n",
       "      <td>3.000000</td>\n",
       "      <td>13.000000</td>\n",
       "      <td>651.000000</td>\n",
       "      <td>1.330000e+06</td>\n",
       "    </tr>\n",
       "    <tr>\n",
       "      <th>max</th>\n",
       "      <td>10.000000</td>\n",
       "      <td>48.100000</td>\n",
       "      <td>433014.000000</td>\n",
       "      <td>9.000000e+06</td>\n",
       "    </tr>\n",
       "  </tbody>\n",
       "</table>\n",
       "</div>"
      ],
      "text/plain": [
       "              Rooms      Distance       Landsize         Price\n",
       "count  13580.000000  13580.000000   13580.000000  1.358000e+04\n",
       "mean       2.937997     10.137776     558.416127  1.075684e+06\n",
       "std        0.955748      5.868725    3990.669241  6.393107e+05\n",
       "min        1.000000      0.000000       0.000000  8.500000e+04\n",
       "25%        2.000000      6.100000     177.000000  6.500000e+05\n",
       "50%        3.000000      9.200000     440.000000  9.030000e+05\n",
       "75%        3.000000     13.000000     651.000000  1.330000e+06\n",
       "max       10.000000     48.100000  433014.000000  9.000000e+06"
      ]
     },
     "execution_count": 5,
     "metadata": {},
     "output_type": "execute_result"
    }
   ],
   "source": [
    "df.describe()[['Rooms','Distance','Landsize','Price']]"
   ]
  },
  {
   "cell_type": "markdown",
   "metadata": {},
   "source": [
    "## No 2\n",
    "a) Berapa jumlah Rooms pada rumah yang harganya paling mahal?\n",
    "\n",
    "b) Berapa rata-rata harga rumah yang jarak ke CBD (variabel Distance) terdekat?\n",
    "\n",
    "c) Berapa rata-rata harga rumah yang luas tanahnya (variabel Landsize) 1 kali standar \n",
    "deviasi di atas rata-rata luas tanah?\n",
    "\n",
    "d) Berapa rentang (range) harga rumah (variabel Price) pada region Southern \n",
    "Metropolitan?"
   ]
  },
  {
   "cell_type": "code",
   "execution_count": null,
   "metadata": {},
   "outputs": [],
   "source": []
  },
  {
   "cell_type": "code",
   "execution_count": 52,
   "metadata": {},
   "outputs": [
    {
     "name": "stdout",
     "output_type": "stream",
     "text": [
      "<class 'pandas.core.frame.DataFrame'>\n",
      "RangeIndex: 13580 entries, 0 to 13579\n",
      "Data columns (total 21 columns):\n",
      " #   Column         Non-Null Count  Dtype  \n",
      "---  ------         --------------  -----  \n",
      " 0   Suburb         13580 non-null  object \n",
      " 1   Address        13580 non-null  object \n",
      " 2   Rooms          13580 non-null  int64  \n",
      " 3   Type           13580 non-null  object \n",
      " 4   Price          13580 non-null  float64\n",
      " 5   Method         13580 non-null  object \n",
      " 6   SellerG        13580 non-null  object \n",
      " 7   Date           13580 non-null  object \n",
      " 8   Distance       13580 non-null  float64\n",
      " 9   Postcode       13580 non-null  float64\n",
      " 10  Bedroom2       13580 non-null  float64\n",
      " 11  Bathroom       13580 non-null  float64\n",
      " 12  Car            13518 non-null  float64\n",
      " 13  Landsize       13580 non-null  float64\n",
      " 14  BuildingArea   7130 non-null   float64\n",
      " 15  YearBuilt      8205 non-null   float64\n",
      " 16  CouncilArea    12211 non-null  object \n",
      " 17  Lattitude      13580 non-null  float64\n",
      " 18  Longtitude     13580 non-null  float64\n",
      " 19  Regionname     13580 non-null  object \n",
      " 20  Propertycount  13580 non-null  float64\n",
      "dtypes: float64(12), int64(1), object(8)\n",
      "memory usage: 2.2+ MB\n"
     ]
    }
   ],
   "source": [
    "df.info()"
   ]
  },
  {
   "cell_type": "markdown",
   "metadata": {},
   "source": [
    "a)"
   ]
  },
  {
   "cell_type": "code",
   "execution_count": 53,
   "metadata": {},
   "outputs": [
    {
     "data": {
      "text/html": [
       "<div>\n",
       "<style scoped>\n",
       "    .dataframe tbody tr th:only-of-type {\n",
       "        vertical-align: middle;\n",
       "    }\n",
       "\n",
       "    .dataframe tbody tr th {\n",
       "        vertical-align: top;\n",
       "    }\n",
       "\n",
       "    .dataframe thead th {\n",
       "        text-align: right;\n",
       "    }\n",
       "</style>\n",
       "<table border=\"1\" class=\"dataframe\">\n",
       "  <thead>\n",
       "    <tr style=\"text-align: right;\">\n",
       "      <th></th>\n",
       "      <th>Suburb</th>\n",
       "      <th>Address</th>\n",
       "      <th>Rooms</th>\n",
       "      <th>Type</th>\n",
       "      <th>Price</th>\n",
       "      <th>Method</th>\n",
       "      <th>SellerG</th>\n",
       "      <th>Date</th>\n",
       "      <th>Distance</th>\n",
       "      <th>Postcode</th>\n",
       "      <th>Bedroom2</th>\n",
       "      <th>Bathroom</th>\n",
       "      <th>Car</th>\n",
       "      <th>Landsize</th>\n",
       "      <th>BuildingArea</th>\n",
       "      <th>YearBuilt</th>\n",
       "      <th>CouncilArea</th>\n",
       "      <th>Lattitude</th>\n",
       "      <th>Longtitude</th>\n",
       "      <th>Regionname</th>\n",
       "      <th>Propertycount</th>\n",
       "    </tr>\n",
       "  </thead>\n",
       "  <tbody>\n",
       "    <tr>\n",
       "      <th>12094</th>\n",
       "      <td>Mulgrave</td>\n",
       "      <td>35 Bevis St</td>\n",
       "      <td>3</td>\n",
       "      <td>h</td>\n",
       "      <td>9000000.0</td>\n",
       "      <td>PI</td>\n",
       "      <td>Hall</td>\n",
       "      <td>29/07/2017</td>\n",
       "      <td>18.8</td>\n",
       "      <td>3170.0</td>\n",
       "      <td>3.0</td>\n",
       "      <td>1.0</td>\n",
       "      <td>1.0</td>\n",
       "      <td>744.0</td>\n",
       "      <td>117.0</td>\n",
       "      <td>1960.0</td>\n",
       "      <td>Monash</td>\n",
       "      <td>-37.93168</td>\n",
       "      <td>145.16126</td>\n",
       "      <td>South-Eastern Metropolitan</td>\n",
       "      <td>7113.0</td>\n",
       "    </tr>\n",
       "  </tbody>\n",
       "</table>\n",
       "</div>"
      ],
      "text/plain": [
       "         Suburb      Address  Rooms Type      Price Method SellerG  \\\n",
       "12094  Mulgrave  35 Bevis St      3    h  9000000.0     PI    Hall   \n",
       "\n",
       "             Date  Distance  Postcode  Bedroom2  Bathroom  Car  Landsize  \\\n",
       "12094  29/07/2017      18.8    3170.0       3.0       1.0  1.0     744.0   \n",
       "\n",
       "       BuildingArea  YearBuilt CouncilArea  Lattitude  Longtitude  \\\n",
       "12094         117.0     1960.0      Monash  -37.93168   145.16126   \n",
       "\n",
       "                       Regionname  Propertycount  \n",
       "12094  South-Eastern Metropolitan         7113.0  "
      ]
     },
     "execution_count": 53,
     "metadata": {},
     "output_type": "execute_result"
    }
   ],
   "source": [
    "df.sort_values('Price',ascending=False).head(1)\n"
   ]
  },
  {
   "cell_type": "markdown",
   "metadata": {},
   "source": [
    "b)"
   ]
  },
  {
   "cell_type": "code",
   "execution_count": 54,
   "metadata": {},
   "outputs": [
    {
     "data": {
      "text/plain": [
       "Rooms                 0.955748\n",
       "Price            639310.724296\n",
       "Distance              5.868725\n",
       "Postcode             90.676964\n",
       "Bedroom2              0.965921\n",
       "Bathroom              0.691712\n",
       "Car                   0.962634\n",
       "Landsize           3990.669241\n",
       "BuildingArea        541.014538\n",
       "YearBuilt            37.273762\n",
       "Lattitude             0.079260\n",
       "Longtitude            0.103916\n",
       "Propertycount      4378.581772\n",
       "dtype: float64"
      ]
     },
     "execution_count": 54,
     "metadata": {},
     "output_type": "execute_result"
    }
   ],
   "source": [
    "df.std()\n"
   ]
  },
  {
   "cell_type": "code",
   "execution_count": 55,
   "metadata": {},
   "outputs": [
    {
     "name": "stdout",
     "output_type": "stream",
     "text": [
      "IQR:  6.9\n"
     ]
    }
   ],
   "source": [
    "q1=df['Distance'].quantile(.25)\n",
    "q2=df['Distance'].quantile(.50)\n",
    "q3=df['Distance'].quantile(.75)\n",
    "iqr=q3-q1\n",
    "\n",
    "print('IQR: ',iqr)"
   ]
  },
  {
   "cell_type": "code",
   "execution_count": 56,
   "metadata": {},
   "outputs": [
    {
     "name": "stdout",
     "output_type": "stream",
     "text": [
      "jumlah outlier: 411\n"
     ]
    }
   ],
   "source": [
    "lower1=q1-1.5*iqr \n",
    "upper1=q3+1.5*iqr \n",
    "\n",
    "print('jumlah outlier:',(df['Distance']<lower1).sum()+(df['Distance']>upper1).sum())"
   ]
  },
  {
   "cell_type": "code",
   "execution_count": 57,
   "metadata": {},
   "outputs": [
    {
     "data": {
      "text/plain": [
       "6.1"
      ]
     },
     "execution_count": 57,
     "metadata": {},
     "output_type": "execute_result"
    }
   ],
   "source": [
    "q1"
   ]
  },
  {
   "cell_type": "code",
   "execution_count": 58,
   "metadata": {},
   "outputs": [
    {
     "name": "stdout",
     "output_type": "stream",
     "text": [
      "jumlah outlier: 0\n"
     ]
    }
   ],
   "source": [
    "print('jumlah outlier:',(df['Distance']<lower1).sum())"
   ]
  },
  {
   "cell_type": "markdown",
   "metadata": {},
   "source": [
    "c)"
   ]
  },
  {
   "cell_type": "code",
   "execution_count": null,
   "metadata": {},
   "outputs": [],
   "source": []
  },
  {
   "cell_type": "markdown",
   "metadata": {},
   "source": [
    "d)"
   ]
  },
  {
   "cell_type": "markdown",
   "metadata": {},
   "source": [
    "## No 3\n",
    "Nilai outlier adalah nilai yang berada di bawah Q1 - (1.5 * IQR) atau di atas  Q3 + (1.5 * IQR).\n",
    "\n",
    "a) Hitung dulu Q1, Q2, dan IQR pada kolom Price (harga rumah)\n",
    "\n",
    "b) Hitung ada berapa nilai outlier pada kolom Price!"
   ]
  },
  {
   "cell_type": "markdown",
   "metadata": {},
   "source": [
    "a)"
   ]
  },
  {
   "cell_type": "code",
   "execution_count": 11,
   "metadata": {},
   "outputs": [
    {
     "name": "stdout",
     "output_type": "stream",
     "text": [
      "Q1: \n",
      " 650000.0\n",
      "Q1: \n",
      " 903000.0\n",
      "Q1: \n",
      " 1330000.0\n"
     ]
    }
   ],
   "source": [
    "Q1=df['Price'].quantile(.25)\n",
    "Q2=df['Price'].quantile(.50)\n",
    "Q3=df['Price'].quantile(.75)\n",
    "\n",
    "print('Q1: \\n',Q1)\n",
    "print('Q1: \\n',Q2)\n",
    "print('Q1: \\n',Q3)"
   ]
  },
  {
   "cell_type": "code",
   "execution_count": 12,
   "metadata": {},
   "outputs": [
    {
     "name": "stdout",
     "output_type": "stream",
     "text": [
      "IQR:  680000.0\n"
     ]
    }
   ],
   "source": [
    "IQR=Q3-Q1\n",
    "print('IQR: ',IQR)"
   ]
  },
  {
   "cell_type": "markdown",
   "metadata": {},
   "source": [
    "b)"
   ]
  },
  {
   "cell_type": "code",
   "execution_count": 26,
   "metadata": {},
   "outputs": [
    {
     "name": "stdout",
     "output_type": "stream",
     "text": [
      "jumlah outlier: 612\n"
     ]
    }
   ],
   "source": [
    "lower=Q1-1.5*IQR \n",
    "upper=Q3+1.5*IQR \n",
    "print('jumlah outlier:', (df['Price']<lower).sum()+(df['Price']>upper).sum())"
   ]
  },
  {
   "cell_type": "markdown",
   "metadata": {},
   "source": [
    "## NO 4\n",
    "Lakukan uji asumsi normalitas pada variabel harga rumah (Price) menggunakan:\n",
    "\n",
    "a) Shapiro Wilk Test\n",
    "\n",
    "b) D’Agostino and Pearson’s Test"
   ]
  },
  {
   "cell_type": "code",
   "execution_count": null,
   "metadata": {},
   "outputs": [],
   "source": []
  },
  {
   "cell_type": "markdown",
   "metadata": {},
   "source": [
    "a)"
   ]
  },
  {
   "cell_type": "code",
   "execution_count": 27,
   "metadata": {},
   "outputs": [
    {
     "name": "stderr",
     "output_type": "stream",
     "text": [
      "C:\\Users\\Lenovo\\anaconda3\\lib\\site-packages\\scipy\\stats\\morestats.py:1681: UserWarning: p-value may not be accurate for N > 5000.\n",
      "  warnings.warn(\"p-value may not be accurate for N > 5000.\")\n"
     ]
    },
    {
     "data": {
      "text/plain": [
       "ShapiroResult(statistic=0.8328601717948914, pvalue=0.0)"
      ]
     },
     "execution_count": 27,
     "metadata": {},
     "output_type": "execute_result"
    }
   ],
   "source": [
    "from scipy.stats import shapiro\n",
    "\n",
    "shapiro(df['Price'])\n"
   ]
  },
  {
   "cell_type": "markdown",
   "metadata": {},
   "source": [
    "b)"
   ]
  },
  {
   "cell_type": "code",
   "execution_count": 46,
   "metadata": {},
   "outputs": [
    {
     "data": {
      "text/plain": [
       "NormaltestResult(statistic=6894.345896172315, pvalue=0.0)"
      ]
     },
     "execution_count": 46,
     "metadata": {},
     "output_type": "execute_result"
    }
   ],
   "source": [
    "from scipy.stats import normaltest\n",
    "normaltest(df['Price'])"
   ]
  },
  {
   "cell_type": "markdown",
   "metadata": {},
   "source": [
    "## No 5\n",
    "Jika diasumsikan telah memenuhi syarat statistik parametrik, hitung seberapa \n",
    "kuat korelasi variabel Rooms dengan Price, serta arah korelasinya!\n"
   ]
  },
  {
   "cell_type": "code",
   "execution_count": 50,
   "metadata": {},
   "outputs": [
    {
     "data": {
      "text/html": [
       "<div>\n",
       "<style scoped>\n",
       "    .dataframe tbody tr th:only-of-type {\n",
       "        vertical-align: middle;\n",
       "    }\n",
       "\n",
       "    .dataframe tbody tr th {\n",
       "        vertical-align: top;\n",
       "    }\n",
       "\n",
       "    .dataframe thead th {\n",
       "        text-align: right;\n",
       "    }\n",
       "</style>\n",
       "<table border=\"1\" class=\"dataframe\">\n",
       "  <thead>\n",
       "    <tr style=\"text-align: right;\">\n",
       "      <th></th>\n",
       "      <th>Rooms</th>\n",
       "      <th>Price</th>\n",
       "    </tr>\n",
       "  </thead>\n",
       "  <tbody>\n",
       "    <tr>\n",
       "      <th>Rooms</th>\n",
       "      <td>1.000000</td>\n",
       "      <td>0.496634</td>\n",
       "    </tr>\n",
       "    <tr>\n",
       "      <th>Price</th>\n",
       "      <td>0.496634</td>\n",
       "      <td>1.000000</td>\n",
       "    </tr>\n",
       "  </tbody>\n",
       "</table>\n",
       "</div>"
      ],
      "text/plain": [
       "          Rooms     Price\n",
       "Rooms  1.000000  0.496634\n",
       "Price  0.496634  1.000000"
      ]
     },
     "execution_count": 50,
     "metadata": {},
     "output_type": "execute_result"
    }
   ],
   "source": [
    "df[['Rooms','Price']].corr(method='pearson')"
   ]
  },
  {
   "cell_type": "markdown",
   "metadata": {},
   "source": [
    "Conclusion:\n",
    "Hubungan antara Rooms dan Price berkorelasi positif sedang."
   ]
  },
  {
   "cell_type": "markdown",
   "metadata": {},
   "source": [
    "## No 6\n",
    "a) Dari beberapa Regionname, manakah Regionname yang variabel jumlah \n",
    "kamarnya (Rooms) memiliki korelasi terkuat dengan variabel harga rumah \n",
    "(Price)!\n",
    "b) Diasumsikan telah memenuhi syarat statistik parametrik.\n"
   ]
  },
  {
   "cell_type": "code",
   "execution_count": 36,
   "metadata": {},
   "outputs": [
    {
     "data": {
      "text/html": [
       "<div>\n",
       "<style scoped>\n",
       "    .dataframe tbody tr th:only-of-type {\n",
       "        vertical-align: middle;\n",
       "    }\n",
       "\n",
       "    .dataframe tbody tr th {\n",
       "        vertical-align: top;\n",
       "    }\n",
       "\n",
       "    .dataframe thead th {\n",
       "        text-align: right;\n",
       "    }\n",
       "</style>\n",
       "<table border=\"1\" class=\"dataframe\">\n",
       "  <thead>\n",
       "    <tr style=\"text-align: right;\">\n",
       "      <th></th>\n",
       "      <th>Suburb</th>\n",
       "      <th>Address</th>\n",
       "      <th>Rooms</th>\n",
       "      <th>Type</th>\n",
       "      <th>Price</th>\n",
       "      <th>Method</th>\n",
       "      <th>SellerG</th>\n",
       "      <th>Date</th>\n",
       "      <th>Distance</th>\n",
       "      <th>Postcode</th>\n",
       "      <th>Bedroom2</th>\n",
       "      <th>Bathroom</th>\n",
       "      <th>Car</th>\n",
       "      <th>Landsize</th>\n",
       "      <th>BuildingArea</th>\n",
       "      <th>YearBuilt</th>\n",
       "      <th>CouncilArea</th>\n",
       "      <th>Lattitude</th>\n",
       "      <th>Longtitude</th>\n",
       "      <th>Regionname</th>\n",
       "      <th>Propertycount</th>\n",
       "    </tr>\n",
       "  </thead>\n",
       "  <tbody>\n",
       "    <tr>\n",
       "      <th>0</th>\n",
       "      <td>Abbotsford</td>\n",
       "      <td>85 Turner St</td>\n",
       "      <td>2</td>\n",
       "      <td>h</td>\n",
       "      <td>1480000.0</td>\n",
       "      <td>S</td>\n",
       "      <td>Biggin</td>\n",
       "      <td>3/12/2016</td>\n",
       "      <td>2.5</td>\n",
       "      <td>3067.0</td>\n",
       "      <td>2.0</td>\n",
       "      <td>1.0</td>\n",
       "      <td>1.0</td>\n",
       "      <td>202.0</td>\n",
       "      <td>NaN</td>\n",
       "      <td>NaN</td>\n",
       "      <td>Yarra</td>\n",
       "      <td>-37.7996</td>\n",
       "      <td>144.9984</td>\n",
       "      <td>Northern Metropolitan</td>\n",
       "      <td>4019.0</td>\n",
       "    </tr>\n",
       "    <tr>\n",
       "      <th>1</th>\n",
       "      <td>Abbotsford</td>\n",
       "      <td>25 Bloomburg St</td>\n",
       "      <td>2</td>\n",
       "      <td>h</td>\n",
       "      <td>1035000.0</td>\n",
       "      <td>S</td>\n",
       "      <td>Biggin</td>\n",
       "      <td>4/02/2016</td>\n",
       "      <td>2.5</td>\n",
       "      <td>3067.0</td>\n",
       "      <td>2.0</td>\n",
       "      <td>1.0</td>\n",
       "      <td>0.0</td>\n",
       "      <td>156.0</td>\n",
       "      <td>79.0</td>\n",
       "      <td>1900.0</td>\n",
       "      <td>Yarra</td>\n",
       "      <td>-37.8079</td>\n",
       "      <td>144.9934</td>\n",
       "      <td>Northern Metropolitan</td>\n",
       "      <td>4019.0</td>\n",
       "    </tr>\n",
       "  </tbody>\n",
       "</table>\n",
       "</div>"
      ],
      "text/plain": [
       "       Suburb          Address  Rooms Type      Price Method SellerG  \\\n",
       "0  Abbotsford     85 Turner St      2    h  1480000.0      S  Biggin   \n",
       "1  Abbotsford  25 Bloomburg St      2    h  1035000.0      S  Biggin   \n",
       "\n",
       "        Date  Distance  Postcode  Bedroom2  Bathroom  Car  Landsize  \\\n",
       "0  3/12/2016       2.5    3067.0       2.0       1.0  1.0     202.0   \n",
       "1  4/02/2016       2.5    3067.0       2.0       1.0  0.0     156.0   \n",
       "\n",
       "   BuildingArea  YearBuilt CouncilArea  Lattitude  Longtitude  \\\n",
       "0           NaN        NaN       Yarra   -37.7996    144.9984   \n",
       "1          79.0     1900.0       Yarra   -37.8079    144.9934   \n",
       "\n",
       "              Regionname  Propertycount  \n",
       "0  Northern Metropolitan         4019.0  \n",
       "1  Northern Metropolitan         4019.0  "
      ]
     },
     "execution_count": 36,
     "metadata": {},
     "output_type": "execute_result"
    }
   ],
   "source": [
    "df.head(2)"
   ]
  },
  {
   "cell_type": "code",
   "execution_count": 64,
   "metadata": {},
   "outputs": [
    {
     "data": {
      "text/html": [
       "<div>\n",
       "<style scoped>\n",
       "    .dataframe tbody tr th:only-of-type {\n",
       "        vertical-align: middle;\n",
       "    }\n",
       "\n",
       "    .dataframe tbody tr th {\n",
       "        vertical-align: top;\n",
       "    }\n",
       "\n",
       "    .dataframe thead th {\n",
       "        text-align: right;\n",
       "    }\n",
       "</style>\n",
       "<table border=\"1\" class=\"dataframe\">\n",
       "  <thead>\n",
       "    <tr style=\"text-align: right;\">\n",
       "      <th></th>\n",
       "      <th></th>\n",
       "      <th>Rooms</th>\n",
       "      <th>Price</th>\n",
       "    </tr>\n",
       "    <tr>\n",
       "      <th>Regionname</th>\n",
       "      <th></th>\n",
       "      <th></th>\n",
       "      <th></th>\n",
       "    </tr>\n",
       "  </thead>\n",
       "  <tbody>\n",
       "    <tr>\n",
       "      <th rowspan=\"2\" valign=\"top\">Eastern Metropolitan</th>\n",
       "      <th>Rooms</th>\n",
       "      <td>1.000000</td>\n",
       "      <td>0.502993</td>\n",
       "    </tr>\n",
       "    <tr>\n",
       "      <th>Price</th>\n",
       "      <td>0.502993</td>\n",
       "      <td>1.000000</td>\n",
       "    </tr>\n",
       "    <tr>\n",
       "      <th rowspan=\"2\" valign=\"top\">Eastern Victoria</th>\n",
       "      <th>Rooms</th>\n",
       "      <td>1.000000</td>\n",
       "      <td>0.314423</td>\n",
       "    </tr>\n",
       "    <tr>\n",
       "      <th>Price</th>\n",
       "      <td>0.314423</td>\n",
       "      <td>1.000000</td>\n",
       "    </tr>\n",
       "    <tr>\n",
       "      <th rowspan=\"2\" valign=\"top\">Northern Metropolitan</th>\n",
       "      <th>Rooms</th>\n",
       "      <td>1.000000</td>\n",
       "      <td>0.392813</td>\n",
       "    </tr>\n",
       "    <tr>\n",
       "      <th>Price</th>\n",
       "      <td>0.392813</td>\n",
       "      <td>1.000000</td>\n",
       "    </tr>\n",
       "    <tr>\n",
       "      <th rowspan=\"2\" valign=\"top\">Northern Victoria</th>\n",
       "      <th>Rooms</th>\n",
       "      <td>1.000000</td>\n",
       "      <td>0.361144</td>\n",
       "    </tr>\n",
       "    <tr>\n",
       "      <th>Price</th>\n",
       "      <td>0.361144</td>\n",
       "      <td>1.000000</td>\n",
       "    </tr>\n",
       "    <tr>\n",
       "      <th rowspan=\"2\" valign=\"top\">South-Eastern Metropolitan</th>\n",
       "      <th>Rooms</th>\n",
       "      <td>1.000000</td>\n",
       "      <td>0.267799</td>\n",
       "    </tr>\n",
       "    <tr>\n",
       "      <th>Price</th>\n",
       "      <td>0.267799</td>\n",
       "      <td>1.000000</td>\n",
       "    </tr>\n",
       "    <tr>\n",
       "      <th rowspan=\"2\" valign=\"top\">Southern Metropolitan</th>\n",
       "      <th>Rooms</th>\n",
       "      <td>1.000000</td>\n",
       "      <td>0.683744</td>\n",
       "    </tr>\n",
       "    <tr>\n",
       "      <th>Price</th>\n",
       "      <td>0.683744</td>\n",
       "      <td>1.000000</td>\n",
       "    </tr>\n",
       "    <tr>\n",
       "      <th rowspan=\"2\" valign=\"top\">Western Metropolitan</th>\n",
       "      <th>Rooms</th>\n",
       "      <td>1.000000</td>\n",
       "      <td>0.476030</td>\n",
       "    </tr>\n",
       "    <tr>\n",
       "      <th>Price</th>\n",
       "      <td>0.476030</td>\n",
       "      <td>1.000000</td>\n",
       "    </tr>\n",
       "    <tr>\n",
       "      <th rowspan=\"2\" valign=\"top\">Western Victoria</th>\n",
       "      <th>Rooms</th>\n",
       "      <td>1.000000</td>\n",
       "      <td>0.551887</td>\n",
       "    </tr>\n",
       "    <tr>\n",
       "      <th>Price</th>\n",
       "      <td>0.551887</td>\n",
       "      <td>1.000000</td>\n",
       "    </tr>\n",
       "  </tbody>\n",
       "</table>\n",
       "</div>"
      ],
      "text/plain": [
       "                                     Rooms     Price\n",
       "Regionname                                          \n",
       "Eastern Metropolitan       Rooms  1.000000  0.502993\n",
       "                           Price  0.502993  1.000000\n",
       "Eastern Victoria           Rooms  1.000000  0.314423\n",
       "                           Price  0.314423  1.000000\n",
       "Northern Metropolitan      Rooms  1.000000  0.392813\n",
       "                           Price  0.392813  1.000000\n",
       "Northern Victoria          Rooms  1.000000  0.361144\n",
       "                           Price  0.361144  1.000000\n",
       "South-Eastern Metropolitan Rooms  1.000000  0.267799\n",
       "                           Price  0.267799  1.000000\n",
       "Southern Metropolitan      Rooms  1.000000  0.683744\n",
       "                           Price  0.683744  1.000000\n",
       "Western Metropolitan       Rooms  1.000000  0.476030\n",
       "                           Price  0.476030  1.000000\n",
       "Western Victoria           Rooms  1.000000  0.551887\n",
       "                           Price  0.551887  1.000000"
      ]
     },
     "execution_count": 64,
     "metadata": {},
     "output_type": "execute_result"
    }
   ],
   "source": [
    "dfroom=df.groupby('Regionname')[['Rooms','Price']].corr(method='pearson')\n",
    "dfroom"
   ]
  },
  {
   "cell_type": "code",
   "execution_count": 63,
   "metadata": {},
   "outputs": [
    {
     "data": {
      "text/html": [
       "<div>\n",
       "<style scoped>\n",
       "    .dataframe tbody tr th:only-of-type {\n",
       "        vertical-align: middle;\n",
       "    }\n",
       "\n",
       "    .dataframe tbody tr th {\n",
       "        vertical-align: top;\n",
       "    }\n",
       "\n",
       "    .dataframe thead th {\n",
       "        text-align: right;\n",
       "    }\n",
       "</style>\n",
       "<table border=\"1\" class=\"dataframe\">\n",
       "  <thead>\n",
       "    <tr style=\"text-align: right;\">\n",
       "      <th></th>\n",
       "      <th></th>\n",
       "      <th>Rooms</th>\n",
       "      <th>Price</th>\n",
       "    </tr>\n",
       "    <tr>\n",
       "      <th>Regionname</th>\n",
       "      <th></th>\n",
       "      <th></th>\n",
       "      <th></th>\n",
       "    </tr>\n",
       "  </thead>\n",
       "  <tbody>\n",
       "    <tr>\n",
       "      <th>Eastern Metropolitan</th>\n",
       "      <th>Rooms</th>\n",
       "      <td>1.000000</td>\n",
       "      <td>0.502993</td>\n",
       "    </tr>\n",
       "    <tr>\n",
       "      <th>Eastern Victoria</th>\n",
       "      <th>Rooms</th>\n",
       "      <td>1.000000</td>\n",
       "      <td>0.314423</td>\n",
       "    </tr>\n",
       "    <tr>\n",
       "      <th>Northern Metropolitan</th>\n",
       "      <th>Rooms</th>\n",
       "      <td>1.000000</td>\n",
       "      <td>0.392813</td>\n",
       "    </tr>\n",
       "    <tr>\n",
       "      <th>Northern Victoria</th>\n",
       "      <th>Rooms</th>\n",
       "      <td>1.000000</td>\n",
       "      <td>0.361144</td>\n",
       "    </tr>\n",
       "    <tr>\n",
       "      <th>South-Eastern Metropolitan</th>\n",
       "      <th>Rooms</th>\n",
       "      <td>1.000000</td>\n",
       "      <td>0.267799</td>\n",
       "    </tr>\n",
       "    <tr>\n",
       "      <th>Southern Metropolitan</th>\n",
       "      <th>Rooms</th>\n",
       "      <td>1.000000</td>\n",
       "      <td>0.683744</td>\n",
       "    </tr>\n",
       "    <tr>\n",
       "      <th>Western Metropolitan</th>\n",
       "      <th>Rooms</th>\n",
       "      <td>1.000000</td>\n",
       "      <td>0.476030</td>\n",
       "    </tr>\n",
       "    <tr>\n",
       "      <th>Western Victoria</th>\n",
       "      <th>Rooms</th>\n",
       "      <td>1.000000</td>\n",
       "      <td>0.551887</td>\n",
       "    </tr>\n",
       "    <tr>\n",
       "      <th>Southern Metropolitan</th>\n",
       "      <th>Price</th>\n",
       "      <td>0.683744</td>\n",
       "      <td>1.000000</td>\n",
       "    </tr>\n",
       "    <tr>\n",
       "      <th>Western Victoria</th>\n",
       "      <th>Price</th>\n",
       "      <td>0.551887</td>\n",
       "      <td>1.000000</td>\n",
       "    </tr>\n",
       "    <tr>\n",
       "      <th>Eastern Metropolitan</th>\n",
       "      <th>Price</th>\n",
       "      <td>0.502993</td>\n",
       "      <td>1.000000</td>\n",
       "    </tr>\n",
       "    <tr>\n",
       "      <th>Western Metropolitan</th>\n",
       "      <th>Price</th>\n",
       "      <td>0.476030</td>\n",
       "      <td>1.000000</td>\n",
       "    </tr>\n",
       "    <tr>\n",
       "      <th>Northern Metropolitan</th>\n",
       "      <th>Price</th>\n",
       "      <td>0.392813</td>\n",
       "      <td>1.000000</td>\n",
       "    </tr>\n",
       "    <tr>\n",
       "      <th>Northern Victoria</th>\n",
       "      <th>Price</th>\n",
       "      <td>0.361144</td>\n",
       "      <td>1.000000</td>\n",
       "    </tr>\n",
       "    <tr>\n",
       "      <th>Eastern Victoria</th>\n",
       "      <th>Price</th>\n",
       "      <td>0.314423</td>\n",
       "      <td>1.000000</td>\n",
       "    </tr>\n",
       "    <tr>\n",
       "      <th>South-Eastern Metropolitan</th>\n",
       "      <th>Price</th>\n",
       "      <td>0.267799</td>\n",
       "      <td>1.000000</td>\n",
       "    </tr>\n",
       "  </tbody>\n",
       "</table>\n",
       "</div>"
      ],
      "text/plain": [
       "                                     Rooms     Price\n",
       "Regionname                                          \n",
       "Eastern Metropolitan       Rooms  1.000000  0.502993\n",
       "Eastern Victoria           Rooms  1.000000  0.314423\n",
       "Northern Metropolitan      Rooms  1.000000  0.392813\n",
       "Northern Victoria          Rooms  1.000000  0.361144\n",
       "South-Eastern Metropolitan Rooms  1.000000  0.267799\n",
       "Southern Metropolitan      Rooms  1.000000  0.683744\n",
       "Western Metropolitan       Rooms  1.000000  0.476030\n",
       "Western Victoria           Rooms  1.000000  0.551887\n",
       "Southern Metropolitan      Price  0.683744  1.000000\n",
       "Western Victoria           Price  0.551887  1.000000\n",
       "Eastern Metropolitan       Price  0.502993  1.000000\n",
       "Western Metropolitan       Price  0.476030  1.000000\n",
       "Northern Metropolitan      Price  0.392813  1.000000\n",
       "Northern Victoria          Price  0.361144  1.000000\n",
       "Eastern Victoria           Price  0.314423  1.000000\n",
       "South-Eastern Metropolitan Price  0.267799  1.000000"
      ]
     },
     "execution_count": 63,
     "metadata": {},
     "output_type": "execute_result"
    }
   ],
   "source": [
    "dfroom.sort_values('Rooms', ascending=False)"
   ]
  },
  {
   "cell_type": "code",
   "execution_count": 67,
   "metadata": {},
   "outputs": [
    {
     "data": {
      "text/html": [
       "<div>\n",
       "<style scoped>\n",
       "    .dataframe tbody tr th:only-of-type {\n",
       "        vertical-align: middle;\n",
       "    }\n",
       "\n",
       "    .dataframe tbody tr th {\n",
       "        vertical-align: top;\n",
       "    }\n",
       "\n",
       "    .dataframe thead th {\n",
       "        text-align: right;\n",
       "    }\n",
       "</style>\n",
       "<table border=\"1\" class=\"dataframe\">\n",
       "  <thead>\n",
       "    <tr style=\"text-align: right;\">\n",
       "      <th></th>\n",
       "      <th>Rooms</th>\n",
       "      <th>Price</th>\n",
       "    </tr>\n",
       "  </thead>\n",
       "  <tbody>\n",
       "    <tr>\n",
       "      <th>Rooms</th>\n",
       "      <td>1.000000</td>\n",
       "      <td>0.683744</td>\n",
       "    </tr>\n",
       "    <tr>\n",
       "      <th>Price</th>\n",
       "      <td>0.683744</td>\n",
       "      <td>1.000000</td>\n",
       "    </tr>\n",
       "  </tbody>\n",
       "</table>\n",
       "</div>"
      ],
      "text/plain": [
       "          Rooms     Price\n",
       "Rooms  1.000000  0.683744\n",
       "Price  0.683744  1.000000"
      ]
     },
     "execution_count": 67,
     "metadata": {},
     "output_type": "execute_result"
    }
   ],
   "source": [
    "dfroom.loc['Southern Metropolitan']"
   ]
  },
  {
   "cell_type": "markdown",
   "metadata": {},
   "source": [
    "## No 7\n",
    "Jika diasumsikan tidak memenuhi syarat statistik parametrik, hitung seberapa \n",
    "kuat korelasi variabel Distance dengan Price, serta arah korelasinya\n"
   ]
  },
  {
   "cell_type": "code",
   "execution_count": 40,
   "metadata": {},
   "outputs": [
    {
     "data": {
      "text/html": [
       "<div>\n",
       "<style scoped>\n",
       "    .dataframe tbody tr th:only-of-type {\n",
       "        vertical-align: middle;\n",
       "    }\n",
       "\n",
       "    .dataframe tbody tr th {\n",
       "        vertical-align: top;\n",
       "    }\n",
       "\n",
       "    .dataframe thead th {\n",
       "        text-align: right;\n",
       "    }\n",
       "</style>\n",
       "<table border=\"1\" class=\"dataframe\">\n",
       "  <thead>\n",
       "    <tr style=\"text-align: right;\">\n",
       "      <th></th>\n",
       "      <th>Distance</th>\n",
       "      <th>Price</th>\n",
       "    </tr>\n",
       "  </thead>\n",
       "  <tbody>\n",
       "    <tr>\n",
       "      <th>Distance</th>\n",
       "      <td>1.00000</td>\n",
       "      <td>-0.12999</td>\n",
       "    </tr>\n",
       "    <tr>\n",
       "      <th>Price</th>\n",
       "      <td>-0.12999</td>\n",
       "      <td>1.00000</td>\n",
       "    </tr>\n",
       "  </tbody>\n",
       "</table>\n",
       "</div>"
      ],
      "text/plain": [
       "          Distance    Price\n",
       "Distance   1.00000 -0.12999\n",
       "Price     -0.12999  1.00000"
      ]
     },
     "execution_count": 40,
     "metadata": {},
     "output_type": "execute_result"
    }
   ],
   "source": [
    "df[['Distance','Price']].corr(method='spearman')"
   ]
  },
  {
   "cell_type": "markdown",
   "metadata": {},
   "source": [
    "Conclusion: \n",
    "Hubungan antara Distance dan Price memiliki korelasi negatif lemah"
   ]
  },
  {
   "cell_type": "markdown",
   "metadata": {},
   "source": [
    "## No 8\n",
    "a) Dari beberapa Regionname manakah Regionname yang variabel jumlah jarak ke CBD \n",
    "(Distance) paling tidak berkorelasi dengan variabel harga rumah (Price)! \n",
    "\n",
    "b) Serta tampilkan juga Regionname yang paling berkorelasi kedua variabel ini!\n",
    "\n",
    "c) Diasumsikan telah memenuhi syarat statistik parametrik.\n"
   ]
  },
  {
   "cell_type": "code",
   "execution_count": null,
   "metadata": {},
   "outputs": [],
   "source": []
  },
  {
   "cell_type": "markdown",
   "metadata": {},
   "source": [
    "a)"
   ]
  },
  {
   "cell_type": "code",
   "execution_count": 12,
   "metadata": {},
   "outputs": [
    {
     "data": {
      "text/html": [
       "<div>\n",
       "<style scoped>\n",
       "    .dataframe tbody tr th:only-of-type {\n",
       "        vertical-align: middle;\n",
       "    }\n",
       "\n",
       "    .dataframe tbody tr th {\n",
       "        vertical-align: top;\n",
       "    }\n",
       "\n",
       "    .dataframe thead th {\n",
       "        text-align: right;\n",
       "    }\n",
       "</style>\n",
       "<table border=\"1\" class=\"dataframe\">\n",
       "  <thead>\n",
       "    <tr style=\"text-align: right;\">\n",
       "      <th></th>\n",
       "      <th></th>\n",
       "      <th>Distance</th>\n",
       "      <th>Price</th>\n",
       "    </tr>\n",
       "    <tr>\n",
       "      <th>Regionname</th>\n",
       "      <th></th>\n",
       "      <th></th>\n",
       "      <th></th>\n",
       "    </tr>\n",
       "  </thead>\n",
       "  <tbody>\n",
       "    <tr>\n",
       "      <th rowspan=\"2\" valign=\"top\">Eastern Metropolitan</th>\n",
       "      <th>Distance</th>\n",
       "      <td>1.000000</td>\n",
       "      <td>-0.124356</td>\n",
       "    </tr>\n",
       "    <tr>\n",
       "      <th>Price</th>\n",
       "      <td>-0.124356</td>\n",
       "      <td>1.000000</td>\n",
       "    </tr>\n",
       "    <tr>\n",
       "      <th rowspan=\"2\" valign=\"top\">Eastern Victoria</th>\n",
       "      <th>Distance</th>\n",
       "      <td>1.000000</td>\n",
       "      <td>-0.345699</td>\n",
       "    </tr>\n",
       "    <tr>\n",
       "      <th>Price</th>\n",
       "      <td>-0.345699</td>\n",
       "      <td>1.000000</td>\n",
       "    </tr>\n",
       "    <tr>\n",
       "      <th rowspan=\"2\" valign=\"top\">Northern Metropolitan</th>\n",
       "      <th>Distance</th>\n",
       "      <td>1.000000</td>\n",
       "      <td>-0.368552</td>\n",
       "    </tr>\n",
       "    <tr>\n",
       "      <th>Price</th>\n",
       "      <td>-0.368552</td>\n",
       "      <td>1.000000</td>\n",
       "    </tr>\n",
       "    <tr>\n",
       "      <th rowspan=\"2\" valign=\"top\">Northern Victoria</th>\n",
       "      <th>Distance</th>\n",
       "      <td>1.000000</td>\n",
       "      <td>0.089566</td>\n",
       "    </tr>\n",
       "    <tr>\n",
       "      <th>Price</th>\n",
       "      <td>0.089566</td>\n",
       "      <td>1.000000</td>\n",
       "    </tr>\n",
       "    <tr>\n",
       "      <th rowspan=\"2\" valign=\"top\">South-Eastern Metropolitan</th>\n",
       "      <th>Distance</th>\n",
       "      <td>1.000000</td>\n",
       "      <td>-0.285564</td>\n",
       "    </tr>\n",
       "    <tr>\n",
       "      <th>Price</th>\n",
       "      <td>-0.285564</td>\n",
       "      <td>1.000000</td>\n",
       "    </tr>\n",
       "    <tr>\n",
       "      <th rowspan=\"2\" valign=\"top\">Southern Metropolitan</th>\n",
       "      <th>Distance</th>\n",
       "      <td>1.000000</td>\n",
       "      <td>0.002489</td>\n",
       "    </tr>\n",
       "    <tr>\n",
       "      <th>Price</th>\n",
       "      <td>0.002489</td>\n",
       "      <td>1.000000</td>\n",
       "    </tr>\n",
       "    <tr>\n",
       "      <th rowspan=\"2\" valign=\"top\">Western Metropolitan</th>\n",
       "      <th>Distance</th>\n",
       "      <td>1.000000</td>\n",
       "      <td>-0.334086</td>\n",
       "    </tr>\n",
       "    <tr>\n",
       "      <th>Price</th>\n",
       "      <td>-0.334086</td>\n",
       "      <td>1.000000</td>\n",
       "    </tr>\n",
       "    <tr>\n",
       "      <th rowspan=\"2\" valign=\"top\">Western Victoria</th>\n",
       "      <th>Distance</th>\n",
       "      <td>1.000000</td>\n",
       "      <td>-0.046064</td>\n",
       "    </tr>\n",
       "    <tr>\n",
       "      <th>Price</th>\n",
       "      <td>-0.046064</td>\n",
       "      <td>1.000000</td>\n",
       "    </tr>\n",
       "  </tbody>\n",
       "</table>\n",
       "</div>"
      ],
      "text/plain": [
       "                                     Distance     Price\n",
       "Regionname                                             \n",
       "Eastern Metropolitan       Distance  1.000000 -0.124356\n",
       "                           Price    -0.124356  1.000000\n",
       "Eastern Victoria           Distance  1.000000 -0.345699\n",
       "                           Price    -0.345699  1.000000\n",
       "Northern Metropolitan      Distance  1.000000 -0.368552\n",
       "                           Price    -0.368552  1.000000\n",
       "Northern Victoria          Distance  1.000000  0.089566\n",
       "                           Price     0.089566  1.000000\n",
       "South-Eastern Metropolitan Distance  1.000000 -0.285564\n",
       "                           Price    -0.285564  1.000000\n",
       "Southern Metropolitan      Distance  1.000000  0.002489\n",
       "                           Price     0.002489  1.000000\n",
       "Western Metropolitan       Distance  1.000000 -0.334086\n",
       "                           Price    -0.334086  1.000000\n",
       "Western Victoria           Distance  1.000000 -0.046064\n",
       "                           Price    -0.046064  1.000000"
      ]
     },
     "execution_count": 12,
     "metadata": {},
     "output_type": "execute_result"
    }
   ],
   "source": [
    "dfcorr= df.groupby('Regionname')[['Distance','Price']].corr(method='pearson')\n",
    "dfcorr"
   ]
  },
  {
   "cell_type": "code",
   "execution_count": 35,
   "metadata": {},
   "outputs": [
    {
     "data": {
      "text/html": [
       "<div>\n",
       "<style scoped>\n",
       "    .dataframe tbody tr th:only-of-type {\n",
       "        vertical-align: middle;\n",
       "    }\n",
       "\n",
       "    .dataframe tbody tr th {\n",
       "        vertical-align: top;\n",
       "    }\n",
       "\n",
       "    .dataframe thead th {\n",
       "        text-align: right;\n",
       "    }\n",
       "</style>\n",
       "<table border=\"1\" class=\"dataframe\">\n",
       "  <thead>\n",
       "    <tr style=\"text-align: right;\">\n",
       "      <th></th>\n",
       "      <th></th>\n",
       "      <th>Distance</th>\n",
       "      <th>Price</th>\n",
       "    </tr>\n",
       "    <tr>\n",
       "      <th>Regionname</th>\n",
       "      <th></th>\n",
       "      <th></th>\n",
       "      <th></th>\n",
       "    </tr>\n",
       "  </thead>\n",
       "  <tbody>\n",
       "    <tr>\n",
       "      <th>Eastern Metropolitan</th>\n",
       "      <th>Distance</th>\n",
       "      <td>1.0</td>\n",
       "      <td>-0.124356</td>\n",
       "    </tr>\n",
       "  </tbody>\n",
       "</table>\n",
       "</div>"
      ],
      "text/plain": [
       "                               Distance     Price\n",
       "Regionname                                       \n",
       "Eastern Metropolitan Distance       1.0 -0.124356"
      ]
     },
     "execution_count": 35,
     "metadata": {},
     "output_type": "execute_result"
    }
   ],
   "source": [
    "dfcorr.head(1)"
   ]
  },
  {
   "cell_type": "markdown",
   "metadata": {},
   "source": [
    "b)"
   ]
  },
  {
   "cell_type": "code",
   "execution_count": 34,
   "metadata": {},
   "outputs": [
    {
     "data": {
      "text/html": [
       "<div>\n",
       "<style scoped>\n",
       "    .dataframe tbody tr th:only-of-type {\n",
       "        vertical-align: middle;\n",
       "    }\n",
       "\n",
       "    .dataframe tbody tr th {\n",
       "        vertical-align: top;\n",
       "    }\n",
       "\n",
       "    .dataframe thead th {\n",
       "        text-align: right;\n",
       "    }\n",
       "</style>\n",
       "<table border=\"1\" class=\"dataframe\">\n",
       "  <thead>\n",
       "    <tr style=\"text-align: right;\">\n",
       "      <th></th>\n",
       "      <th></th>\n",
       "      <th>Distance</th>\n",
       "      <th>Price</th>\n",
       "    </tr>\n",
       "    <tr>\n",
       "      <th>Regionname</th>\n",
       "      <th></th>\n",
       "      <th></th>\n",
       "      <th></th>\n",
       "    </tr>\n",
       "  </thead>\n",
       "  <tbody>\n",
       "    <tr>\n",
       "      <th>Eastern Metropolitan</th>\n",
       "      <th>Distance</th>\n",
       "      <td>1.000000</td>\n",
       "      <td>-0.124356</td>\n",
       "    </tr>\n",
       "    <tr>\n",
       "      <th>Eastern Victoria</th>\n",
       "      <th>Distance</th>\n",
       "      <td>1.000000</td>\n",
       "      <td>-0.345699</td>\n",
       "    </tr>\n",
       "    <tr>\n",
       "      <th>Northern Metropolitan</th>\n",
       "      <th>Distance</th>\n",
       "      <td>1.000000</td>\n",
       "      <td>-0.368552</td>\n",
       "    </tr>\n",
       "    <tr>\n",
       "      <th>Northern Victoria</th>\n",
       "      <th>Distance</th>\n",
       "      <td>1.000000</td>\n",
       "      <td>0.089566</td>\n",
       "    </tr>\n",
       "    <tr>\n",
       "      <th>South-Eastern Metropolitan</th>\n",
       "      <th>Distance</th>\n",
       "      <td>1.000000</td>\n",
       "      <td>-0.285564</td>\n",
       "    </tr>\n",
       "    <tr>\n",
       "      <th>Southern Metropolitan</th>\n",
       "      <th>Distance</th>\n",
       "      <td>1.000000</td>\n",
       "      <td>0.002489</td>\n",
       "    </tr>\n",
       "    <tr>\n",
       "      <th>Western Metropolitan</th>\n",
       "      <th>Distance</th>\n",
       "      <td>1.000000</td>\n",
       "      <td>-0.334086</td>\n",
       "    </tr>\n",
       "    <tr>\n",
       "      <th>Western Victoria</th>\n",
       "      <th>Distance</th>\n",
       "      <td>1.000000</td>\n",
       "      <td>-0.046064</td>\n",
       "    </tr>\n",
       "    <tr>\n",
       "      <th>Northern Victoria</th>\n",
       "      <th>Price</th>\n",
       "      <td>0.089566</td>\n",
       "      <td>1.000000</td>\n",
       "    </tr>\n",
       "    <tr>\n",
       "      <th>Southern Metropolitan</th>\n",
       "      <th>Price</th>\n",
       "      <td>0.002489</td>\n",
       "      <td>1.000000</td>\n",
       "    </tr>\n",
       "    <tr>\n",
       "      <th>Western Victoria</th>\n",
       "      <th>Price</th>\n",
       "      <td>-0.046064</td>\n",
       "      <td>1.000000</td>\n",
       "    </tr>\n",
       "    <tr>\n",
       "      <th>Eastern Metropolitan</th>\n",
       "      <th>Price</th>\n",
       "      <td>-0.124356</td>\n",
       "      <td>1.000000</td>\n",
       "    </tr>\n",
       "    <tr>\n",
       "      <th>South-Eastern Metropolitan</th>\n",
       "      <th>Price</th>\n",
       "      <td>-0.285564</td>\n",
       "      <td>1.000000</td>\n",
       "    </tr>\n",
       "    <tr>\n",
       "      <th>Western Metropolitan</th>\n",
       "      <th>Price</th>\n",
       "      <td>-0.334086</td>\n",
       "      <td>1.000000</td>\n",
       "    </tr>\n",
       "    <tr>\n",
       "      <th>Eastern Victoria</th>\n",
       "      <th>Price</th>\n",
       "      <td>-0.345699</td>\n",
       "      <td>1.000000</td>\n",
       "    </tr>\n",
       "    <tr>\n",
       "      <th>Northern Metropolitan</th>\n",
       "      <th>Price</th>\n",
       "      <td>-0.368552</td>\n",
       "      <td>1.000000</td>\n",
       "    </tr>\n",
       "  </tbody>\n",
       "</table>\n",
       "</div>"
      ],
      "text/plain": [
       "                                     Distance     Price\n",
       "Regionname                                             \n",
       "Eastern Metropolitan       Distance  1.000000 -0.124356\n",
       "Eastern Victoria           Distance  1.000000 -0.345699\n",
       "Northern Metropolitan      Distance  1.000000 -0.368552\n",
       "Northern Victoria          Distance  1.000000  0.089566\n",
       "South-Eastern Metropolitan Distance  1.000000 -0.285564\n",
       "Southern Metropolitan      Distance  1.000000  0.002489\n",
       "Western Metropolitan       Distance  1.000000 -0.334086\n",
       "Western Victoria           Distance  1.000000 -0.046064\n",
       "Northern Victoria          Price     0.089566  1.000000\n",
       "Southern Metropolitan      Price     0.002489  1.000000\n",
       "Western Victoria           Price    -0.046064  1.000000\n",
       "Eastern Metropolitan       Price    -0.124356  1.000000\n",
       "South-Eastern Metropolitan Price    -0.285564  1.000000\n",
       "Western Metropolitan       Price    -0.334086  1.000000\n",
       "Eastern Victoria           Price    -0.345699  1.000000\n",
       "Northern Metropolitan      Price    -0.368552  1.000000"
      ]
     },
     "execution_count": 34,
     "metadata": {},
     "output_type": "execute_result"
    }
   ],
   "source": [
    "dfcorr.sort_values('Distance',ascending=False)"
   ]
  },
  {
   "cell_type": "code",
   "execution_count": 50,
   "metadata": {},
   "outputs": [
    {
     "data": {
      "text/html": [
       "<div>\n",
       "<style scoped>\n",
       "    .dataframe tbody tr th:only-of-type {\n",
       "        vertical-align: middle;\n",
       "    }\n",
       "\n",
       "    .dataframe tbody tr th {\n",
       "        vertical-align: top;\n",
       "    }\n",
       "\n",
       "    .dataframe thead th {\n",
       "        text-align: right;\n",
       "    }\n",
       "</style>\n",
       "<table border=\"1\" class=\"dataframe\">\n",
       "  <thead>\n",
       "    <tr style=\"text-align: right;\">\n",
       "      <th></th>\n",
       "      <th>Distance</th>\n",
       "      <th>Price</th>\n",
       "    </tr>\n",
       "  </thead>\n",
       "  <tbody>\n",
       "    <tr>\n",
       "      <th>Distance</th>\n",
       "      <td>1.000000</td>\n",
       "      <td>0.089566</td>\n",
       "    </tr>\n",
       "    <tr>\n",
       "      <th>Price</th>\n",
       "      <td>0.089566</td>\n",
       "      <td>1.000000</td>\n",
       "    </tr>\n",
       "  </tbody>\n",
       "</table>\n",
       "</div>"
      ],
      "text/plain": [
       "          Distance     Price\n",
       "Distance  1.000000  0.089566\n",
       "Price     0.089566  1.000000"
      ]
     },
     "execution_count": 50,
     "metadata": {},
     "output_type": "execute_result"
    }
   ],
   "source": [
    "dfcorr.loc['Northern Victoria']"
   ]
  },
  {
   "cell_type": "markdown",
   "metadata": {},
   "source": [
    "## No 9 \n",
    "Uji hipotesis apakah metode pembelian/Method berkaitan dengan tipe \n",
    "rumah/ Type (dependen) atau tidak saling berkaitan (independen)!\n",
    "\n",
    "Hypothesis:\n",
    "\n",
    "• Ho : The two variables are independent\n",
    "\n",
    "• Ha : The two variables are dependent."
   ]
  },
  {
   "cell_type": "code",
   "execution_count": null,
   "metadata": {},
   "outputs": [],
   "source": []
  },
  {
   "cell_type": "markdown",
   "metadata": {},
   "source": [
    "## No 10\n",
    "Uji hipotesis apakah rata-rata harga rumah (Price) antar Regionname berbeda \n",
    "ataukah sama! Diasumsikan persyaratan statistik parametrik terpenuhi\n",
    "\n",
    "Hipotesis:\n",
    "\n",
    "• Ho : μ1 = μ2 = … = μk (Rata-rata harga rumah antar Regionname sama)\n",
    "\n",
    "• Ha : Setidaknya ada satu pasang Regionname yang rata-rata harga \n",
    "rumahnya tidak sama, tapi kita tidak tahu yang mana\n"
   ]
  },
  {
   "cell_type": "code",
   "execution_count": 76,
   "metadata": {},
   "outputs": [
    {
     "data": {
      "text/plain": [
       "<pandas.core.groupby.generic.DataFrameGroupBy object at 0x00000207436651F0>"
      ]
     },
     "execution_count": 76,
     "metadata": {},
     "output_type": "execute_result"
    }
   ],
   "source": [
    "dfgrup=df.groupby('Regionname')[['Price','Regionname']]\n",
    "dfgrup"
   ]
  },
  {
   "cell_type": "code",
   "execution_count": null,
   "metadata": {},
   "outputs": [],
   "source": []
  },
  {
   "cell_type": "code",
   "execution_count": null,
   "metadata": {},
   "outputs": [],
   "source": []
  },
  {
   "cell_type": "code",
   "execution_count": null,
   "metadata": {},
   "outputs": [],
   "source": []
  },
  {
   "cell_type": "code",
   "execution_count": null,
   "metadata": {},
   "outputs": [],
   "source": []
  },
  {
   "cell_type": "code",
   "execution_count": null,
   "metadata": {},
   "outputs": [],
   "source": []
  },
  {
   "cell_type": "code",
   "execution_count": null,
   "metadata": {},
   "outputs": [],
   "source": []
  },
  {
   "cell_type": "code",
   "execution_count": null,
   "metadata": {},
   "outputs": [],
   "source": []
  },
  {
   "cell_type": "code",
   "execution_count": null,
   "metadata": {},
   "outputs": [],
   "source": []
  },
  {
   "cell_type": "code",
   "execution_count": null,
   "metadata": {},
   "outputs": [],
   "source": []
  },
  {
   "cell_type": "code",
   "execution_count": null,
   "metadata": {},
   "outputs": [],
   "source": []
  }
 ],
 "metadata": {
  "kernelspec": {
   "display_name": "Python 3",
   "language": "python",
   "name": "python3"
  },
  "language_info": {
   "codemirror_mode": {
    "name": "ipython",
    "version": 3
   },
   "file_extension": ".py",
   "mimetype": "text/x-python",
   "name": "python",
   "nbconvert_exporter": "python",
   "pygments_lexer": "ipython3",
   "version": "3.8.5"
  }
 },
 "nbformat": 4,
 "nbformat_minor": 4
}
